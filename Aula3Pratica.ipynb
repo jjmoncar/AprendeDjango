{
  "nbformat": 4,
  "nbformat_minor": 0,
  "metadata": {
    "colab": {
      "provenance": [],
      "authorship_tag": "ABX9TyNjfvYlsRDCcLWkJ26HcgwJ",
      "include_colab_link": true
    },
    "kernelspec": {
      "name": "python3",
      "display_name": "Python 3"
    },
    "language_info": {
      "name": "python"
    }
  },
  "cells": [
    {
      "cell_type": "markdown",
      "metadata": {
        "id": "view-in-github",
        "colab_type": "text"
      },
      "source": [
        "<a href=\"https://colab.research.google.com/github/jjmoncar/AprendeDjango/blob/master/Aula3Pratica.ipynb\" target=\"_parent\"><img src=\"https://colab.research.google.com/assets/colab-badge.svg\" alt=\"Open In Colab\"/></a>"
      ]
    },
    {
      "cell_type": "code",
      "source": [
        "print(\"Olá Mundo\")"
      ],
      "metadata": {
        "colab": {
          "base_uri": "https://localhost:8080/"
        },
        "id": "QUdpLPjhDN1k",
        "outputId": "44b5dc84-278e-447f-da14-d0c573c585ce"
      },
      "execution_count": 2,
      "outputs": [
        {
          "output_type": "stream",
          "name": "stdout",
          "text": [
            "Olá Mundo\n"
          ]
        }
      ]
    },
    {
      "cell_type": "code",
      "source": [
        "# Variavies\n",
        "idade_joao = 37\n",
        "salario = 756.98\n",
        "nome = \"Miguel\"\n",
        "masculino = False\n",
        "print(\"a edade e:\", idade_joao,\"seu salario:\", salario,\"seu nome:\", nome,\"seu sexo:\", masculino)"
      ],
      "metadata": {
        "colab": {
          "base_uri": "https://localhost:8080/"
        },
        "id": "-P1n0aAzETRc",
        "outputId": "36303aca-8b47-4dd7-8873-536469934f53"
      },
      "execution_count": 25,
      "outputs": [
        {
          "output_type": "stream",
          "name": "stdout",
          "text": [
            "a edade e: 37 seu salario: 756.98 seu nome: Miguel seu sexo: False\n"
          ]
        }
      ]
    },
    {
      "cell_type": "code",
      "source": [
        "# operacoes com variaveis\n",
        "distancia = 20\n",
        "tempo = 6\n",
        "velocidade = distancia/tempo\n",
        "print(\"a velocidade e: \", \"%.2f\" % velocidade)"
      ],
      "metadata": {
        "colab": {
          "base_uri": "https://localhost:8080/"
        },
        "id": "lsjWNHKWH4ik",
        "outputId": "9ef7b5aa-0453-41d7-adbf-cfbf3a76a354"
      },
      "execution_count": 23,
      "outputs": [
        {
          "output_type": "stream",
          "name": "stdout",
          "text": [
            "a velocidade e:  3.33\n"
          ]
        }
      ]
    },
    {
      "cell_type": "code",
      "source": [
        "# em uma empresa sabemos a sua receita e seu costo, calcule el lucro\n",
        "receita = 519\n",
        "costo = 30.99\n",
        "\n",
        "lucro = receita - costo\n",
        "print(\"O lucro e:\", lucro)\n",
        "#com formato\n",
        "print(f\"O lucro foi {lucro}, con uma receita de {receita}\")"
      ],
      "metadata": {
        "colab": {
          "base_uri": "https://localhost:8080/"
        },
        "id": "ORh2oI3TJ538",
        "outputId": "a4fb2280-76fa-4171-ce58-ebd6d996fc98"
      },
      "execution_count": 30,
      "outputs": [
        {
          "output_type": "stream",
          "name": "stdout",
          "text": [
            "O lucro e: 488.01\n",
            "O lucro foi 488.01, con uma receita de 519\n"
          ]
        }
      ]
    },
    {
      "cell_type": "code",
      "source": [
        "# condicionais\n",
        "clima = \"Sol\"\n",
        "dia = \"sábado\"\n",
        "if clima ==\"Sol\" and (dia==\"sábado\" or dia==\"domingo\"):\n",
        "  praia = \"Sim\"\n",
        "else:\n",
        "  praia = \"não\"\n",
        "print(praia)"
      ],
      "metadata": {
        "colab": {
          "base_uri": "https://localhost:8080/"
        },
        "id": "azLF9XAkNS_W",
        "outputId": "f81a058b-9759-46ef-84d2-8cf5f4e2f210"
      },
      "execution_count": 37,
      "outputs": [
        {
          "output_type": "stream",
          "name": "stdout",
          "text": [
            "Sim\n"
          ]
        }
      ]
    },
    {
      "cell_type": "code",
      "source": [
        "# condicionais com senão\n",
        "nivel = \"basico\"\n",
        "\n",
        "if nivel ==\"basico\":\n",
        "  andar = 10\n",
        "  predio = 1\n",
        "elif nivel == \"intermediario\":\n",
        "  andar = 2\n",
        "  predio = 1\n",
        "elif nivel ==\"avançado\":\n",
        "  andar = 5\n",
        "  predio =2\n",
        "else:\n",
        "  print(\"ERRO!\")\n",
        "print(andar, predio)"
      ],
      "metadata": {
        "colab": {
          "base_uri": "https://localhost:8080/"
        },
        "id": "pu5T-P6pR22e",
        "outputId": "2c2e6695-271f-47ad-ff34-b0699f71780f"
      },
      "execution_count": 44,
      "outputs": [
        {
          "output_type": "stream",
          "name": "stdout",
          "text": [
            "10 1\n"
          ]
        }
      ]
    },
    {
      "cell_type": "code",
      "source": [
        "# funçao\n",
        "def media(nota1,nota2,nota3):\n",
        "  nota_final = (nota1+nota2+nota3)/3\n",
        "  return nota_final\n",
        "\n",
        "nota_joao = media(77,98,23)\n",
        "nota_pedro = media(65,43,88)\n",
        "nota_ana = media(55,98,99)\n",
        "\n",
        "print(nota_joao, nota_pedro, nota_ana)"
      ],
      "metadata": {
        "colab": {
          "base_uri": "https://localhost:8080/"
        },
        "id": "r79VgYq8U0GO",
        "outputId": "798159f3-4dff-4ee7-b870-7bc93ba662cd"
      },
      "execution_count": 53,
      "outputs": [
        {
          "output_type": "stream",
          "name": "stdout",
          "text": [
            "66.0 65.33333333333333 84.0\n"
          ]
        }
      ]
    }
  ]
}